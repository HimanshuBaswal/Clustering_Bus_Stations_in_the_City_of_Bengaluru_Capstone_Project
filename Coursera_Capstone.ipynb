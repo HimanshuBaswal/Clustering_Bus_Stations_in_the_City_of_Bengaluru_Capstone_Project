{
  "nbformat": 4,
  "nbformat_minor": 0,
  "metadata": {
    "colab": {
      "name": "Coursera_Capstone.ipynb",
      "provenance": [],
      "collapsed_sections": []
    },
    "kernelspec": {
      "name": "python3",
      "display_name": "Python 3"
    },
    "language_info": {
      "name": "python"
    }
  },
  "cells": [
    {
      "cell_type": "markdown",
      "metadata": {
        "id": "ker6lclYtKje"
      },
      "source": [
        "# Coursera_Capstone\n",
        "####The Aim of this notebook is to complete the IBM Data Science Coursera Capstone project. It is only used for the capstone project."
      ]
    },
    {
      "cell_type": "code",
      "metadata": {
        "id": "9uFG3xhFsl25"
      },
      "source": [
        "import pandas as pd\n",
        "import numpy as np"
      ],
      "execution_count": 1,
      "outputs": []
    },
    {
      "cell_type": "code",
      "metadata": {
        "colab": {
          "base_uri": "https://localhost:8080/"
        },
        "id": "5ifCmVZFti55",
        "outputId": "e2c32d08-df55-41e1-f834-f9816c331638"
      },
      "source": [
        "print(\"Hello Capstone Project Course\")"
      ],
      "execution_count": 2,
      "outputs": [
        {
          "output_type": "stream",
          "text": [
            "Hello Capstone Project Course\n"
          ],
          "name": "stdout"
        }
      ]
    },
    {
      "cell_type": "code",
      "metadata": {
        "id": "OqqaihF6tut8"
      },
      "source": [
        ""
      ],
      "execution_count": null,
      "outputs": []
    }
  ]
}